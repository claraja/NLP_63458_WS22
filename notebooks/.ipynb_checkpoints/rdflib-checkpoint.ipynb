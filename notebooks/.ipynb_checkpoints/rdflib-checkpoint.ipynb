{
 "cells": [
  {
   "cell_type": "code",
   "execution_count": 1,
   "metadata": {},
   "outputs": [
    {
     "name": "stdout",
     "output_type": "stream",
     "text": [
      "Collecting rdflib\n",
      "  Downloading rdflib-5.0.0-py3-none-any.whl (231 kB)\n",
      "Requirement already satisfied: six in c:\\programme\\programmierung\\anaconda\\lib\\site-packages (from rdflib) (1.11.0)\n",
      "Requirement already satisfied: pyparsing in c:\\programme\\programmierung\\anaconda\\lib\\site-packages (from rdflib) (2.2.0)\n",
      "Collecting isodate\n",
      "  Downloading isodate-0.6.1-py2.py3-none-any.whl (41 kB)\n",
      "Installing collected packages: isodate, rdflib\n",
      "Successfully installed isodate-0.6.1 rdflib-5.0.0\n"
     ]
    }
   ],
   "source": [
    "!pip install rdflib"
   ]
  },
  {
   "cell_type": "code",
   "execution_count": 53,
   "metadata": {},
   "outputs": [],
   "source": [
    "from rdflib import Graph, Literal, RDF, URIRef, DCTERMS,  Namespace, BNode\n",
    "# rdflib knows about quite a few popular namespaces, like W3C ontologies, schema.org etc.\n",
    "from rdflib.namespace import FOAF , XSD, RDFS\n",
    "from rdflib.term import URIRef\n"
   ]
  },
  {
   "cell_type": "code",
   "execution_count": 37,
   "metadata": {},
   "outputs": [],
   "source": [
    "MESH_URIRef = URIRef('http://purl.org/dc/terms/MESH')"
   ]
  },
  {
   "cell_type": "markdown",
   "metadata": {},
   "source": [
    "## Erstellen eines eigenen Graphen"
   ]
  },
  {
   "cell_type": "code",
   "execution_count": 20,
   "metadata": {},
   "outputs": [],
   "source": [
    "namespace_string = \"http://fapranlp.de/\"\n",
    "namespace = Namespace(namespace_string)"
   ]
  },
  {
   "cell_type": "code",
   "execution_count": 68,
   "metadata": {},
   "outputs": [],
   "source": [
    "# Create a Graph\n",
    "g = Graph()\n",
    "\n",
    "# Create an RDF URI node to use as the subject for multiple triples\n",
    "# depression = URIRef(\"http://example.org/donna\")"
   ]
  },
  {
   "cell_type": "code",
   "execution_count": 22,
   "metadata": {},
   "outputs": [],
   "source": [
    "namespace_manager = g.namespace_manager"
   ]
  },
  {
   "cell_type": "code",
   "execution_count": 23,
   "metadata": {},
   "outputs": [],
   "source": [
    "prefix = \"fapra\"\n",
    "namespace_manager.bind(prefix, namespace)"
   ]
  },
  {
   "cell_type": "code",
   "execution_count": 65,
   "metadata": {},
   "outputs": [],
   "source": [
    "disease = namespace.Disease\n",
    "feeling = namespace.Symptom\n",
    "concept = namespace.Concept"
   ]
  },
  {
   "cell_type": "code",
   "execution_count": 69,
   "metadata": {},
   "outputs": [],
   "source": [
    "depression = URIRef(namespace_string + 'D003863')\n",
    "behavioral_symptom = URIRef(namespace_string + 'D001526')\n",
    "sadness = URIRef(namespace_string + 'D000078602')\n",
    "emotions = URIRef(namespace_string + 'D004644')\n",
    "symptoms = BNode()\n",
    "depression_symptoms = BNode()\n",
    "\n",
    "\n",
    "# Add triples using store's add() method.\n",
    "g.add((depression, DCTERMS.concept, disease))\n",
    "g.add((depression, RDFS.label, Literal('Depression')))\n",
    "g.add((behavioral_symptom,DCTERMS.concept, disease))\n",
    "g.add((behavioral_symptom, RDFS.label, Literal('Behavioral Symptom')))\n",
    "g.add((depression, DCTERMS.parentTreeNumber, behavioral_symptom))\n",
    "g.add((sadness, DCTERMS.concept, feeling))\n",
    "g.add((sadness, RDFS.label, Literal('Sadness')))\n",
    "g.add((sadness, DCTERMS.parentTreeNumber, emotions))\n",
    "g.add((symptoms, DCTERMS.concept, disease))\n",
    "g.add((symptoms, RDFS.label, Literal('Symptoms')))\n",
    "g.add((depression_symptoms, DCTERMS.concept, concept))\n",
    "g.add((depression_symptoms, RDFS.label, Literal('Depression/Symptoms')))\n",
    "g.add((depression_symptoms, DCTERMS.hasDescriptor, depression))\n",
    "g.add((depression_symptoms, DCTERMS.hasQualifier, symptoms))\n"
   ]
  },
  {
   "cell_type": "code",
   "execution_count": 71,
   "metadata": {},
   "outputs": [
    {
     "name": "stdout",
     "output_type": "stream",
     "text": [
      "--- printing raw triples ---\n",
      "(rdflib.term.URIRef('http://fapranlp.de/D003863'), rdflib.term.URIRef('http://purl.org/dc/terms/concept'), rdflib.term.URIRef('http://fapranlp.de/Disease'))\n",
      "(rdflib.term.BNode('N7b7f74aa94994bed88e3acc5e0ab6de5'), rdflib.term.URIRef('http://www.w3.org/2000/01/rdf-schema#label'), rdflib.term.Literal('Depression/Symptoms'))\n",
      "(rdflib.term.URIRef('http://fapranlp.de/D003863'), rdflib.term.URIRef('http://www.w3.org/2000/01/rdf-schema#label'), rdflib.term.Literal('Depression'))\n",
      "(rdflib.term.BNode('N7b7f74aa94994bed88e3acc5e0ab6de5'), rdflib.term.URIRef('http://purl.org/dc/terms/concept'), rdflib.term.URIRef('http://fapranlp.de/Concept'))\n",
      "(rdflib.term.URIRef('http://fapranlp.de/D003863'), rdflib.term.URIRef('http://purl.org/dc/terms/parentTreeNumber'), rdflib.term.URIRef('http://fapranlp.de/D001526'))\n",
      "(rdflib.term.BNode('N7b7f74aa94994bed88e3acc5e0ab6de5'), rdflib.term.URIRef('http://purl.org/dc/terms/hasDescriptor'), rdflib.term.URIRef('http://fapranlp.de/D003863'))\n",
      "(rdflib.term.URIRef('http://fapranlp.de/D000078602'), rdflib.term.URIRef('http://purl.org/dc/terms/concept'), rdflib.term.URIRef('http://fapranlp.de/Symptom'))\n",
      "(rdflib.term.BNode('N7b7f74aa94994bed88e3acc5e0ab6de5'), rdflib.term.URIRef('http://purl.org/dc/terms/hasQualifier'), rdflib.term.BNode('Nb195925a476d47b6a9f9737a01607863'))\n",
      "(rdflib.term.URIRef('http://fapranlp.de/D001526'), rdflib.term.URIRef('http://www.w3.org/2000/01/rdf-schema#label'), rdflib.term.Literal('Behavioral Symptom'))\n",
      "(rdflib.term.BNode('Nb195925a476d47b6a9f9737a01607863'), rdflib.term.URIRef('http://www.w3.org/2000/01/rdf-schema#label'), rdflib.term.Literal('Symptoms'))\n",
      "(rdflib.term.URIRef('http://fapranlp.de/D000078602'), rdflib.term.URIRef('http://purl.org/dc/terms/parentTreeNumber'), rdflib.term.URIRef('http://fapranlp.de/D004644'))\n",
      "(rdflib.term.URIRef('http://fapranlp.de/D001526'), rdflib.term.URIRef('http://purl.org/dc/terms/concept'), rdflib.term.URIRef('http://fapranlp.de/Disease'))\n",
      "(rdflib.term.URIRef('http://fapranlp.de/D000078602'), rdflib.term.URIRef('http://www.w3.org/2000/01/rdf-schema#label'), rdflib.term.Literal('Sadness'))\n",
      "(rdflib.term.BNode('Nb195925a476d47b6a9f9737a01607863'), rdflib.term.URIRef('http://purl.org/dc/terms/concept'), rdflib.term.URIRef('http://fapranlp.de/Disease'))\n"
     ]
    }
   ],
   "source": [
    "# Iterate over triples in store and print them out.\n",
    "print(\"--- printing raw triples ---\")\n",
    "for subject, predicate, obj in g:\n",
    "    print((subject, predicate, obj))"
   ]
  },
  {
   "cell_type": "markdown",
   "metadata": {},
   "source": [
    "## Serialisierung"
   ]
  },
  {
   "cell_type": "code",
   "execution_count": 70,
   "metadata": {},
   "outputs": [
    {
     "name": "stdout",
     "output_type": "stream",
     "text": [
      "b'<?xml version=\"1.0\" encoding=\"utf-8\"?>\\n<rdf:RDF\\n  xmlns:rdfs=\"http://www.w3.org/2000/01/rdf-schema#\"\\n  xmlns:ns1=\"http://purl.org/dc/terms/\"\\n  xmlns:rdf=\"http://www.w3.org/1999/02/22-rdf-syntax-ns#\"\\n>\\n  <rdf:Description rdf:nodeID=\"N7b7f74aa94994bed88e3acc5e0ab6de5\">\\n    <ns1:concept rdf:resource=\"http://fapranlp.de/Concept\"/>\\n    <ns1:hasQualifier>\\n      <rdf:Description rdf:nodeID=\"Nb195925a476d47b6a9f9737a01607863\">\\n        <rdfs:label>Symptoms</rdfs:label>\\n        <ns1:concept rdf:resource=\"http://fapranlp.de/Disease\"/>\\n      </rdf:Description>\\n    </ns1:hasQualifier>\\n    <rdfs:label>Depression/Symptoms</rdfs:label>\\n    <ns1:hasDescriptor>\\n      <rdf:Description rdf:about=\"http://fapranlp.de/D003863\">\\n        <ns1:concept rdf:resource=\"http://fapranlp.de/Disease\"/>\\n        <ns1:parentTreeNumber rdf:resource=\"http://fapranlp.de/D001526\"/>\\n        <rdfs:label>Depression</rdfs:label>\\n      </rdf:Description>\\n    </ns1:hasDescriptor>\\n  </rdf:Description>\\n  <rdf:Description rdf:about=\"http://fapranlp.de/D000078602\">\\n    <ns1:concept rdf:resource=\"http://fapranlp.de/Symptom\"/>\\n    <rdfs:label>Sadness</rdfs:label>\\n    <ns1:parentTreeNumber rdf:resource=\"http://fapranlp.de/D004644\"/>\\n  </rdf:Description>\\n  <rdf:Description rdf:about=\"http://fapranlp.de/D001526\">\\n    <ns1:concept rdf:resource=\"http://fapranlp.de/Disease\"/>\\n    <rdfs:label>Behavioral Symptom</rdfs:label>\\n  </rdf:Description>\\n</rdf:RDF>\\n'\n"
     ]
    }
   ],
   "source": [
    "print(g.serialize(format='pretty-xml'))\n",
    "g.serialize('example.rdf', format='pretty-xml')"
   ]
  },
  {
   "cell_type": "markdown",
   "metadata": {},
   "source": [
    "## Loading MeSH\n",
    "oder zumindest einen kleinen Ausschnitt davon"
   ]
  },
  {
   "cell_type": "code",
   "execution_count": 16,
   "metadata": {},
   "outputs": [
    {
     "name": "stdout",
     "output_type": "stream",
     "text": [
      "7\n"
     ]
    }
   ],
   "source": [
    "mesh_graph.parse(\"depression.nt\",  format=\"n3\")\n",
    "\n",
    "print(len(g))\n",
    "# prints: 2"
   ]
  },
  {
   "cell_type": "code",
   "execution_count": 17,
   "metadata": {},
   "outputs": [
    {
     "name": "stdout",
     "output_type": "stream",
     "text": [
      "--- printing raw triples ---\n",
      "(rdflib.term.URIRef('http://id.nlm.nih.gov/mesh/M0006028'), rdflib.term.URIRef('http://id.nlm.nih.gov/mesh/vocab#identifier'), rdflib.term.Literal('M0006028'))\n",
      "(rdflib.term.URIRef('file:///C:/Users/Anne/NLP/Fapra-Repository/NLP_63458_WS22/notebooks/?xml version=\"1.0\" encoding=\"utf-8\"?'), rdflib.term.URIRef('http://id.nlm.nih.gov/mesh/M0006028'), rdflib.term.URIRef('http://id.nlm.nih.gov/mesh/vocab#identifier'))\n",
      "(rdflib.term.URIRef('http://id.nlm.nih.gov/mesh/M0006028'), rdflib.term.URIRef('http://www.w3.org/1999/02/22-rdf-syntax-ns#type'), rdflib.term.URIRef('http://id.nlm.nih.gov/mesh/vocab#Concept'))\n",
      "(rdflib.term.URIRef('http://id.nlm.nih.gov/mesh/M0006028'), rdflib.term.URIRef('http://id.nlm.nih.gov/mesh/vocab#preferredTerm'), rdflib.term.URIRef('http://id.nlm.nih.gov/mesh/T011484'))\n",
      "(rdflib.term.URIRef('http://id.nlm.nih.gov/mesh/M0006028'), rdflib.term.URIRef('http://www.w3.org/2000/01/rdf-schema#label'), rdflib.term.Literal('Depression', lang='en'))\n",
      "(rdflib.term.URIRef('http://id.nlm.nih.gov/mesh/M0006028'), rdflib.term.URIRef('http://id.nlm.nih.gov/mesh/vocab#scopeNote'), rdflib.term.Literal('Depressive states usually of moderate intensity in contrast with MAJOR DEPRESSIVE DISORDER present in neurotic and psychotic disorders.', lang='en'))\n",
      "(rdflib.term.URIRef('http://id.nlm.nih.gov/mesh/M0006028'), rdflib.term.URIRef('http://id.nlm.nih.gov/mesh/vocab#narrowerConcept'), rdflib.term.URIRef('http://id.nlm.nih.gov/mesh/M0006029'))\n"
     ]
    }
   ],
   "source": [
    "# Iterate over triples in store and print them out.\n",
    "print(\"--- printing raw triples ---\")\n",
    "for subject, predicate, obj in mesh_graph:\n",
    "    print((subject, predicate, obj))"
   ]
  }
 ],
 "metadata": {
  "kernelspec": {
   "display_name": "Python 3",
   "language": "python",
   "name": "python3"
  },
  "language_info": {
   "codemirror_mode": {
    "name": "ipython",
    "version": 3
   },
   "file_extension": ".py",
   "mimetype": "text/x-python",
   "name": "python",
   "nbconvert_exporter": "python",
   "pygments_lexer": "ipython3",
   "version": "3.6.5"
  }
 },
 "nbformat": 4,
 "nbformat_minor": 2
}
