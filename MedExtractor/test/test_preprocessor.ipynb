{
 "cells": [
  {
   "cell_type": "code",
   "execution_count": null,
   "metadata": {},
   "outputs": [],
   "source": [
    "import re\n",
    "import pysbd\n",
    "import spacy\n",
    "import glob\n",
    "from spacy import Language\n",
    "from preprocessor import RuleBasedPreprocessor"
   ]
  },
  {
   "cell_type": "code",
   "execution_count": null,
   "metadata": {},
   "outputs": [],
   "source": [
    "nlp = spacy.load('en_core_web_sm') \n",
    "\n",
    "filenames = [filename for filename in glob.glob(\"../../resources/to_analyze/TextToAnalyze.txt\")]\n",
    "\n",
    "print(filenames)"
   ]
  },
  {
   "cell_type": "code",
   "execution_count": null,
   "metadata": {},
   "outputs": [],
   "source": [
    "# mit Preprocessor:\n",
    "preprocessor = RuleBasedPreprocessor(filenames[0], with_pysbd=True)\n",
    "text = preprocessor.get_preprocessed_text()    # pre-process text file before passing it to knowledge_extractor\n",
    "\n",
    "# ohne Preprocessor:\n",
    "#with open(filenames[0], 'r', encoding='utf-8') as file:\n",
    "#    text = file.read()"
   ]
  },
  {
   "cell_type": "code",
   "execution_count": null,
   "metadata": {},
   "outputs": [],
   "source": [
    "sentences = []\n",
    "for sent in nlp(text).sents:\n",
    "    sentences.append(sent.text)"
   ]
  },
  {
   "cell_type": "code",
   "execution_count": null,
   "metadata": {},
   "outputs": [],
   "source": [
    "sentences[4:30]"
   ]
  }
 ],
 "metadata": {
  "kernelspec": {
   "display_name": "Python 3",
   "language": "python",
   "name": "python3"
  },
  "language_info": {
   "codemirror_mode": {
    "name": "ipython",
    "version": 3
   },
   "file_extension": ".py",
   "mimetype": "text/x-python",
   "name": "python",
   "nbconvert_exporter": "python",
   "pygments_lexer": "ipython3",
   "version": "3.8.5"
  },
  "orig_nbformat": 4
 },
 "nbformat": 4,
 "nbformat_minor": 2
}
